{
 "cells": [
  {
   "cell_type": "code",
   "execution_count": 7,
   "id": "33eb04a8",
   "metadata": {},
   "outputs": [],
   "source": [
    "library(sensitivity)\n",
    "library(tidyr)\n",
    "source(\"../augmented_utils.R\")\n",
    "\n",
    "parallel = TRUE\n",
    "registerDoParallel(cores = 5)"
   ]
  },
  {
   "cell_type": "markdown",
   "id": "b1e28698-836e-43cd-8fe7-2d56f3195cfc",
   "metadata": {},
   "source": [
    "# Preamble"
   ]
  },
  {
   "cell_type": "markdown",
   "id": "279285c3-524d-4833-9103-d884d9f32dda",
   "metadata": {},
   "source": [
    "### CtoR function to associate the best representatives to a given clustering"
   ]
  },
  {
   "cell_type": "code",
   "execution_count": 9,
   "id": "428736f4-2d82-493f-a952-14442df38274",
   "metadata": {},
   "outputs": [],
   "source": [
    "vec = seq(10^-10,1-10^-10,l=5000) #just a vector to estimate integral\n",
    "\n",
    "try_unif_1d = function(samp, delta = NULL){ #this compute the optimal parameters of the 1D uniform\n",
    "  quantiles_vec = quantile(samp, vec) #computation of the empirical quantile function on [0,1]\n",
    "  if(is.null(delta)){ #if the width of the support is free\n",
    "    u_bound = mean(quantiles_vec*(6*vec-2)) #estimate upper bound\n",
    "    l_bound = mean(quantiles_vec*(-6*vec+4)) #estimate lower bound\n",
    "  }\n",
    "  else{ #if width of support is given\n",
    "    l_bound = mean(quantiles_vec-delta/2) #estimate lower bound\n",
    "    u_bound = l_bound+delta #estimate upper bound\n",
    "  }\n",
    "  return(matrix(c(l_bound, u_bound)))\n",
    "  \n",
    "}\n",
    "\n",
    "\n",
    "CtoR = function(clusts, only_bornes = TRUE, n_sample = 500, return_error = FALSE){ #function that associate the best representative, either a dirac or a uniform on each marginal\n",
    "  rep = list()\n",
    "  law = list()\n",
    "  local_errors = c() \n",
    "  for(j in 1:length(clusts)){ #for each cluster, the optimal representative will be provided\n",
    "    mat = NULL\n",
    "    law_j = c()\n",
    "    diss_tot = 0 #quantization error\n",
    "    for(k in 1:ncol(clusts[[j]])){ #for each marginal\n",
    "     unif = try_unif_1d(clusts[[j]][,k], delta = 1) #get the uniform with given width = 1\n",
    "     unif_tilde = from_law_to_sample(list(unif_prov), law = list(\"unif\"), n = n_sample)[[1]] #get sample associated with this uniform\n",
    "     diss_unif = wasserstein1d(unif_tilde_prov, clusts[[j]][,k],p=2) #compute wasserstein distance between the marginal and the uniform\n",
    "       \n",
    "     dirac = mean(clusts[[j]][,k]) #try dirac representative\n",
    "     dirac = matrix(c(dirac, dirac)) \n",
    "     dirac_tilde = from_law_to_sample(list(dirac), law = list(\"dirac\"), n = n_sample)[[1]]\n",
    "     diss_dirac = wasserstein1d(dirac_tilde, clusts[[j]][,k],p=2) #compute wasserstein distance between the marginal and the dirac\n",
    "     if(diss_dirac > diss_unif){ #if the dirac is not the best representative, keep uniform\n",
    "      if(!only_bornes){mat = cbind(mat, unif_tilde)} #only_bornes=TRUE indicates that the only the parameters of the representatives are returned. If false, then a sample is returned for the representative\n",
    "       else{mat = cbind(mat, unif)}\n",
    "       law_j = c(law_j, \"unif\")\n",
    "       diss_tot = diss_tot + diss_unif^2\n",
    "     }\n",
    "     else{ #if dirac is the best representative, save it\n",
    "       if(!only_bornes){mat = cbind(mat, dirac_tilde)}\n",
    "       else{mat = cbind(mat, dirac)}\n",
    "       law_j = c(law_j, \"dirac\")\n",
    "       diss_tot = diss_tot + diss_dirac^2\n",
    "     }\n",
    "    }\n",
    "    rep[[j]] = mat\n",
    "    law[[j]] = law_j\n",
    "    local_errors = c(local_errors, sqrt(diss_tot))\n",
    "  }\n",
    "  res = list(rep, law)\n",
    "  if(return_error){res = c(res,  list(local_errors, sapply(clusts, nrow)))}\n",
    "  return(res)\n",
    "}\n"
   ]
  },
  {
   "cell_type": "markdown",
   "id": "01f7deea-6bea-4a78-a94e-83664997ff5a",
   "metadata": {},
   "source": [
    "### Function to initialize the AQ algorithm "
   ]
  },
  {
   "cell_type": "code",
   "execution_count": 10,
   "id": "a0c1b637-dead-4489-b445-9c69f65b70a9",
   "metadata": {},
   "outputs": [],
   "source": [
    "\n",
    "initialize_algo = function(l,d, multistart = 1){ #function to propose initial mixture (randomly selected)\n",
    "    starts = list()\n",
    "    for(start in 1:multistart){ #multistart\n",
    "        weights = rep(1/l, l = l) #equal weights\n",
    "        all_law = list()\n",
    "        all_rep = list()\n",
    "        for(xx in 1:l){\n",
    "            size_unif = sample(x= c(0,1), size = d, replace = TRUE) #select uniform or dirac for each dimension (0 is dirac, 1 is uniform of width 1)\n",
    "            repres = rbind(rep(0, d), rep(1,d))\n",
    "            repres[1,size_unif < 0.5] = runif(sum(size_unif < 0.5))\n",
    "            repres[2, size_unif < 0.5] = repres[1, size_unif < 0.5]\n",
    "            law = rep(\"unif\", d) \n",
    "            law[which(size_unif < 0.5)] = \"dirac\"\n",
    "            all_rep[[xx]] = repres \n",
    "            all_law[[xx]] = law\n",
    "        }\n",
    "    starts[[start]] = list(rep = all_rep, law = all_law) \n",
    "    }\n",
    "    return(starts)\n",
    "}"
   ]
  },
  {
   "cell_type": "markdown",
   "id": "ba955e27-dd7c-4b4b-a66d-5e27dcd3dd45",
   "metadata": {},
   "source": [
    "### Definition of the G-function (Marrel et. al 2009) and computation of quantile\n",
    "\n",
    "This function is defined as \n",
    "\n",
    "$$G(\\mathbf{X}) \\;=\\; \\prod_{i=1}^d \\; \\frac{\\lvert 4X_i \\;-\\; 2\\rvert \\;+\\; a_i}{1 + a_i}$$\n",
    "\n",
    "where $X_i \\in [0,1]$, $a_i \\ge 0$, and $d$ is the dimension. Here we work with $d=10.$  \n",
    "\n",
    "Why this function ? The coefficients $a_i$ control the impact of the variables:\n",
    "- Small $a_i$ $\\Rightarrow$ $X_i$ has big influence on $G$\n",
    "- High $a_i$ $\\Rightarrow$ $X_i$ has small influence on $G$\n",
    "\n",
    "Here, we select \n",
    "- $a_i = 99$ for $i \\in \\{1,2,4,5,6,9,10\\}$, rendering these variables non-influential.\n",
    "- $a_3 = 0: $ biggest influence\n",
    "- $a_7 = 2: $ relatively high influence\n",
    "- $a_8 = 4: $ small influence\n",
    "\n",
    "The objective is to perform AQ to identify the most influential variables on $G(\\mathbf{X}) > q_{95}$, where $q_{95}$ is the $0.95$-quantile of $G(\\mathbf{X}).$"
   ]
  },
  {
   "cell_type": "code",
   "execution_count": 17,
   "id": "99bee3a4",
   "metadata": {},
   "outputs": [
    {
     "data": {
      "text/html": [
       "2.13"
      ],
      "text/latex": [
       "2.13"
      ],
      "text/markdown": [
       "2.13"
      ],
      "text/plain": [
       "[1] 2.13"
      ]
     },
     "metadata": {},
     "output_type": "display_data"
    }
   ],
   "source": [
    "\n",
    "gfunc <- function(xx, a = (seq_along(xx) - 1) / 2) {\n",
    "  new1 <- abs(4 * xx - 2) + a\n",
    "  new2 <- 1 + a \n",
    "  prod_term <- prod(new1 / new2)\n",
    "  return(prod_term)\n",
    "}\n",
    "\n",
    "a = rep(99, 10) \n",
    "a[3] = 0\n",
    "a[7] = 2\n",
    "a[8] = 4\n",
    "quant = 0.95\n",
    "\n",
    "sob = sobol(10^6, dim = 10)\n",
    "yy = apply(sob, 1, function(x){gfunc(x, a = a)})\n",
    "q_095 <- round(as.numeric(quantile(yy, 0.95)), 2)\n",
    "q_095\n",
    "\n"
   ]
  },
  {
   "cell_type": "markdown",
   "id": "436dd25b-ddb7-4db9-9c10-ba3795de2ac8",
   "metadata": {},
   "source": [
    "# Augmented Quantization"
   ]
  },
  {
   "cell_type": "markdown",
   "id": "c28f689d-cac3-4a41-aa09-fd60df20e491",
   "metadata": {},
   "source": [
    "### Get conditionnal samples $F_1(X_1),..., F_{10}(X_{10}) \\mid G(\\mathbf{X}) > q_{95}$"
   ]
  },
  {
   "cell_type": "code",
   "execution_count": 18,
   "id": "53c291e6",
   "metadata": {},
   "outputs": [],
   "source": [
    "set.seed(10)\n",
    "X = as.data.frame(matrix(runif(n=6000*10, min =0, max = 1), ncol = 10))\n",
    "yy = apply(X, 1, function(x){gfunc(x, a = a)})\n",
    "\n",
    "Xsample = X[yy>q_095,]\n"
   ]
  },
  {
   "cell_type": "markdown",
   "id": "c52454f4-3ed0-4b9e-b23d-51f8e0689d4a",
   "metadata": {},
   "source": [
    "### Run AQ algorithm"
   ]
  },
  {
   "cell_type": "code",
   "execution_count": null,
   "id": "b9bf50bc-6302-4fb8-943c-ee234228756d",
   "metadata": {},
   "outputs": [],
   "source": [
    "set.seed(123)\n",
    "init = initialize_algo(l = 4, d = 10)[[1]]\n",
    "res_sensi = augmented_quanti(samp = as.matrix(Xsample), rep = init$rep,vec_prop = c(0.4,0.2,0.1), it_lim = 10,n_sample = 1000,threshold = 0.02, law = init$law, prop_search = 1)\n",
    "save(res_sensi, file = \"res_gfunc.RData\")"
   ]
  },
  {
   "cell_type": "markdown",
   "id": "ab73a740-6b2c-42f6-b50b-7d1fb6e68e0d",
   "metadata": {},
   "source": [
    "### Plot obtained mixture"
   ]
  },
  {
   "cell_type": "code",
   "execution_count": 15,
   "id": "1e6b26d8-4abd-471d-9e97-5fab40011340",
   "metadata": {},
   "outputs": [
    {
     "data": {
      "image/png": "[encoded data removed]",
      "text/plain": [
       "plot without title"
      ]
     },
     "metadata": {
      "image/png": {
       "height": 480,
       "width": 840
      }
     },
     "output_type": "display_data"
    }
   ],
   "source": [
    "options(repr.plot.width = 14, repr.plot.height = 8)\n",
    "\n",
    "load(\"res_gfunc.RData\")\n",
    "best_sensi = find_best(res_sensi)\n",
    "df_plot = create_df_plot(best_sensi[[2]], best_sensi[[1]])\n",
    "plot_hybrid_distrib(df_plot,c(\"X1\",\"X2\",\"X3\", \"X4\", \"X5\", \"X6\",\"X7\",\"X8\",\"X9\",\"X10\"), cex_legend = 1, ysize = 1.7, inset = c(-0.13,0))\n",
    "\n",
    "#plot_hybrid_distrib(df_plot,c(\"X1\",\"X2\",\"X3\", \"X4\", \"X5\", \"X6\",\"X7\",\"X8\",\"X9\",\"X10\"), cex_legend = 1.3, ysize = 1.7, save = TRUE, save_name = \"res_gfunc.pdf\",inset = c(-0.05,0))"
   ]
  },
  {
   "cell_type": "markdown",
   "id": "bce54599-8ff3-421d-a31c-27fa85657e07",
   "metadata": {},
   "source": [
    "### Analysis\n",
    "\n",
    "- For all variables $i \\notin \\{3,7,8\\}$, the obtained mixture exhibits only large uniform representatives, indicating that these variables are non-influential, as expected.  \n",
    "- For $X_3$, only Dirac representatives are identified, showing its strong influence on $G(\\mathbf{X}) > q_{95}$.  \n",
    "- Variable $X_7$ can take any value in $42\\%$ of the scenarios (red representative), while only specific values of this variable lead to $Y > q_{95}$ in the remaining cases (Dirac for the three other representatives). This confirms that its influence is smaller than that of $X_3$, but still significant.  \n",
    "- The influence of $X_8$ is highlighted in only $8\\%$ of the cases (purple scenario), confirming that although it still has an effect, this effect is smaller than for $X_3$ and $X_7$.\n"
   ]
  },
  {
   "cell_type": "markdown",
   "id": "a0421c94-5c6c-4929-b3d3-b6c0c20b178b",
   "metadata": {},
   "source": [
    "# HSIC indices"
   ]
  },
  {
   "cell_type": "markdown",
   "id": "7d82f79c-2796-497d-93d9-b6f0c2e07431",
   "metadata": {},
   "source": [
    "### Function to compute HSIC indices "
   ]
  },
  {
   "cell_type": "code",
   "execution_count": 79,
   "id": "9e3f0ee9-307e-48ee-95c7-95f4fdaa3da2",
   "metadata": {},
   "outputs": [],
   "source": [
    "func_hsic = function(it){\n",
    "    X = as.data.frame(matrix(runif(n=6000*10, min = 0, max = 1), ncol = 10)) #sample X\n",
    "    outputs =  apply(X, 1, function(x){gfunc(x, a = a)}) #output function\n",
    "    return(sensiHSIC(model = function(X){return(outputs)}, X = X, target=list(c=q_095, type = \"exp1side\"))$S[[1]]) \n",
    "    }"
   ]
  },
  {
   "cell_type": "markdown",
   "id": "da734d77-6033-4869-96d7-b389715efe81",
   "metadata": {},
   "source": [
    "### Compute the HSIC indices "
   ]
  },
  {
   "cell_type": "code",
   "execution_count": null,
   "id": "81d96f3f-5ebd-4ddb-b84b-8997aa223aa5",
   "metadata": {},
   "outputs": [],
   "source": [
    "set.seed(10)\n",
    "\n",
    "n_iter = 200\n",
    "results <- foreach(it = 1:n_iter, .combine = \"rbind\") %dopar% {\n",
    "  func_hsic(it)\n",
    "}\n",
    "results = as.data.frame(results)\n",
    "colnames(results) = c(\"X1\",\"X2\",\"X3\", \"X4\", \"X5\", \"X6\",\"X7\",\"X8\",\"X9\",\"X10\")\n",
    "write.csv(results, file = \"results_hsic_gfunc.csv\", row.names = FALSE)"
   ]
  },
  {
   "cell_type": "markdown",
   "id": "6a3a2771-02d0-4a86-9d72-f661dcc7db09",
   "metadata": {},
   "source": [
    "### Plot the distributions of the HSIC indices"
   ]
  },
  {
   "cell_type": "code",
   "execution_count": 13,
   "id": "27ab48f4-27ff-40e6-8098-5096d27be387",
   "metadata": {},
   "outputs": [
    {
     "data": {
      "image/png": "[encoded data removed]",
      "text/plain": [
       "plot without title"
      ]
     },
     "metadata": {
      "image/png": {
       "height": 480,
       "width": 840
      }
     },
     "output_type": "display_data"
    }
   ],
   "source": [
    "results = read.csv(\"results_hsic_gfunc.csv\")\n",
    "df_long <- pivot_longer(results, cols = everything(), names_to = \"Variable\", values_to = \"Value\")\n",
    "df_long$Variable <- factor(df_long$Variable, levels = unique(df_long$Variable))\n",
    "\n",
    "# Boxplots côte à côte\n",
    "p = ggplot(df_long, aes(x = Variable, y = Value, col = Variable)) +\n",
    "  geom_boxplot() +\n",
    "  theme_bw() +\n",
    "  labs(\n",
    "    x = \"\", y = \"\",\n",
    "    color = expression(T - R[phantom() * paste(plain(\"HSIC\"), \",\", omega)]^2)\n",
    "  ) +\n",
    "  scale_fill_brewer(palette = \"Set2\") +\n",
    "  theme(\n",
    "    legend.title = element_text(size = 21),  # taille du titre de la légende\n",
    "    legend.text  = element_text(size = 17),  # taille du texte de la légende\n",
    "    axis.text.x  = element_text(size = 20),  # taille des ticks en abscisse\n",
    "    axis.text.y  = element_text(size = 17)   # taille des ticks en ordonnée\n",
    "  )\n",
    "\n",
    "p"
   ]
  },
  {
   "cell_type": "code",
   "execution_count": 14,
   "id": "88275d87",
   "metadata": {},
   "outputs": [],
   "source": [
    "#ggsave(filename = \"hsic_gfunc.pdf\",plot = p,device = cairo_pdf,width = 10, height = 7, units = \"in\",dpi = 600)"
   ]
  },
  {
   "cell_type": "markdown",
   "id": "518eaa26-0015-4acd-94ca-cddebfb70df6",
   "metadata": {},
   "source": [
    "### Anlysis of HSIC indices\n",
    "\n",
    "As expected from the construction of the function and confirmed by the AQ analysis, $x_3$, $x_7$, and $x_8$ are the only influential variables, in that order of influence."
   ]
  }
 ],
 "metadata": {
  "kernelspec": {
   "display_name": "R",
   "language": "R",
   "name": "ir"
  },
  "language_info": {
   "codemirror_mode": "r",
   "file_extension": ".r",
   "mimetype": "text/x-r-source",
   "name": "R",
   "pygments_lexer": "r",
   "version": "4.4.2"
  }
 },
 "nbformat": 4,
 "nbformat_minor": 5
}
