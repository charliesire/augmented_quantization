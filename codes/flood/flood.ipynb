{
 "cells": [
  {
   "cell_type": "code",
   "execution_count": 17,
   "id": "33eb04a8",
   "metadata": {},
   "outputs": [],
   "source": [
    "library(sensitivity)\n",
    "library(tidyr)\n",
    "source(\"../augmented_utils.R\")\n",
    "\n",
    "parallel = TRUE\n",
    "registerDoParallel(cores = 5)"
   ]
  },
  {
   "cell_type": "code",
   "execution_count": 16,
   "id": "e3df0316-fb8d-4176-b33c-eb09769cdaac",
   "metadata": {},
   "outputs": [],
   "source": [
    "options(repr.plot.width = 10, repr.plot.height = 6)\n"
   ]
  },
  {
   "cell_type": "markdown",
   "id": "44d6d1ff-439d-4ac0-a20e-276cffb764af",
   "metadata": {},
   "source": [
    "### CtoR function to associate the best representatives to a given clustering"
   ]
  },
  {
   "cell_type": "code",
   "execution_count": 4,
   "id": "428736f4-2d82-493f-a952-14442df38274",
   "metadata": {},
   "outputs": [],
   "source": [
    "vec = seq(10^-10,1-10^-10,l=5000) #just a vector to estimate integral\n",
    "\n",
    "try_unif_1d = function(samp, delta = NULL){ #this compute the optimal parameters of the 1D uniform\n",
    "  quantiles_vec = quantile(samp, vec) #computation of the empirical quantile function on [0,1]\n",
    "  if(is.null(delta)){ #if the width of the support is free\n",
    "    u_bound = mean(quantiles_vec*(6*vec-2)) #estimate upper bound\n",
    "    l_bound = mean(quantiles_vec*(-6*vec+4)) #estimate lower bound\n",
    "  }\n",
    "  else{ #if width of support is given\n",
    "    l_bound = mean(quantiles_vec-delta/2) #estimate lower bound\n",
    "    u_bound = l_bound+delta #estimate upper bound\n",
    "  }\n",
    "  return(matrix(c(l_bound, u_bound)))\n",
    "  \n",
    "}\n",
    "\n",
    "CtoR = function(clusts, only_bornes = TRUE, n_sample = 500, return_error = FALSE){ #function that associate the best representative, either a dirac or a uniform on each marginal\n",
    "  rep = list()\n",
    "  law = list()\n",
    "  local_errors = c() \n",
    "  for(j in 1:length(clusts)){ #for each cluster, the optimal representative will be provided\n",
    "    mat = NULL\n",
    "    law_j = c()\n",
    "    diss_tot = 0 #quantization error\n",
    "    for(k in 1:ncol(clusts[[j]])){ #for each marginal\n",
    "      diss_unif = 10^5\n",
    "      for(delta in c(1/4,1/2,3/4,1)){ #try the support width 0.25,0.5,0.75 and 1\n",
    "       unif_prov = try_unif_1d(clusts[[j]][,k], delta = delta) #get the uniform with given width\n",
    "       unif_tilde_prov = from_law_to_sample(list(unif_prov), law = list(\"unif\"), n = n_sample)[[1]] #get sample associated with this uniform\n",
    "       diss_unif_prov = wasserstein1d(unif_tilde_prov, clusts[[j]][,k],p=2) #compute wasserstein distance between the marginal and the uniform\n",
    "       if(diss_unif_prov < diss_unif){ #if this uniform is the best, save it\n",
    "         unif = unif_prov\n",
    "         unif_tilde = unif_tilde_prov\n",
    "         diss_unif = diss_unif_prov\n",
    "       }\n",
    "      }\n",
    "     dirac = mean(clusts[[j]][,k]) #try dirac representative\n",
    "     dirac = matrix(c(dirac, dirac)) \n",
    "     dirac_tilde = from_law_to_sample(list(dirac), law = list(\"dirac\"), n = n_sample)[[1]]\n",
    "     diss_dirac = wasserstein1d(dirac_tilde, clusts[[j]][,k],p=2) #compute wasserstein distance between the marginal and the dirac\n",
    "     if(diss_dirac > diss_unif){ #if the dirac is not the best representative, keep uniform\n",
    "      if(!only_bornes){mat = cbind(mat, unif_tilde)} #only_bornes=TRUE indicates that the only the parameters of the representatives are returned. If false, then a sample is returned for the representative\n",
    "       else{mat = cbind(mat, unif)}\n",
    "       law_j = c(law_j, \"unif\")\n",
    "       diss_tot = diss_tot + diss_unif^2\n",
    "     }\n",
    "     else{ #if dirac is the best representative, save it\n",
    "       if(!only_bornes){mat = cbind(mat, dirac_tilde)}\n",
    "       else{mat = cbind(mat, dirac)}\n",
    "       law_j = c(law_j, \"dirac\")\n",
    "       diss_tot = diss_tot + diss_dirac^2\n",
    "     }\n",
    "    }\n",
    "    rep[[j]] = mat\n",
    "    law[[j]] = law_j\n",
    "    local_errors = c(local_errors, sqrt(diss_tot))\n",
    "  }\n",
    "  res = list(rep, law)\n",
    "  if(return_error){res = c(res,  list(local_errors, sapply(clusts, nrow)))}\n",
    "  return(res)\n",
    "}\n",
    "\n",
    "\n"
   ]
  },
  {
   "cell_type": "markdown",
   "id": "7d423ae5-e309-474a-8b97-eac2c5e56baa",
   "metadata": {},
   "source": [
    "### Function to initialize the AQ algorithm "
   ]
  },
  {
   "cell_type": "code",
   "execution_count": null,
   "id": "d9f545e5-4dcf-46a8-86f0-873d355a4c32",
   "metadata": {},
   "outputs": [],
   "source": [
    "\n",
    "initialize_algo = function(l,d, multistart = 1){ #function to propose initial mixture (randomly selected)\n",
    "    starts = list()\n",
    "    for(start in 1:multistart){ #multistart\n",
    "        weights = rep(1/l, l = l) #equal weights\n",
    "        all_law = list()\n",
    "        all_rep = list()\n",
    "        for(xx in 1:l){\n",
    "            size_unif = sample(x= c(0,0.25,0.5, 0.75,1), size = d) #select size of uniform (0 is dirac)\n",
    "            repres = runif(n = d, min = 0, max = 1-size_unif) #lower bound of the uniform\n",
    "            repres = rbind(repres, repres + size_unif) #upper bound\n",
    "            law = rep(\"dirac\", d) \n",
    "            law[which(size_unif >0.001)] = \"unif\"\n",
    "            all_rep[[xx]] = repres \n",
    "            all_law[[xx]] = law\n",
    "        }\n",
    "    starts[[start]] = list(rep = all_rep, law = all_law) \n",
    "    }\n",
    "    return(starts)\n",
    "}\n"
   ]
  },
  {
   "cell_type": "markdown",
   "id": "0a1e7ceb-24b2-4e65-aaf3-01be8c1bc1bd",
   "metadata": {},
   "source": [
    "### Run AQ algorithm"
   ]
  },
  {
   "cell_type": "code",
   "execution_count": null,
   "id": "a8268eb9-8028-49f3-b479-102f5373ac12",
   "metadata": {},
   "outputs": [],
   "source": [
    "set.seed(10)\n",
    "\n",
    "Xsample = as.matrix(read.csv(\"conditionnal_sample_flood.csv\"))[,c(1,4,6,7)]\n",
    "\n",
    "init = initialize_algo(l = 3, d = 4)[[1]]\n",
    "res_sensi = augmented_quanti(samp = Xsample, rep = init$rep,vec_prop = c(0.4,0.2,0.1), it_lim = 10,n_sample = 1000,threshold = 0.008, law = init$law, prop_search = 1)\n",
    "save(res_sensi, file = \"res_sensi_flood.RData\")\n"
   ]
  },
  {
   "cell_type": "markdown",
   "id": "3d4965f3-a56e-4263-a0ce-64c70d122bd0",
   "metadata": {},
   "source": [
    "### Plot obtained mixture"
   ]
  },
  {
   "cell_type": "code",
   "execution_count": 27,
   "id": "d509cfa7-0203-4181-b059-3d22b255c36e",
   "metadata": {},
   "outputs": [
    {
     "data": {
      "image/png": "[encoded data removed]",
      "text/plain": [
       "plot without title"
      ]
     },
     "metadata": {
      "image/png": {
       "height": 360,
       "width": 600
      }
     },
     "output_type": "display_data"
    }
   ],
   "source": [
    "load(\"res_sensi_flood.RData\")\n",
    "best_sensi = find_best(res_sensi)\n",
    "df_plot = create_df_plot(best_sensi[[2]], best_sensi[[1]])\n",
    "plot_hybrid_distrib(df_plot,c(\"er\",\"Ks\",\"of\", \"Qmax\"), cex_legend = 1.7, ysize = 1.7)\n",
    "#plot_hybrid_distrib(df_plot,c(\"er\",\"Ks\",\"of\", \"Qmax\"), cex_legend = 1.7, ysize = 1.7, save = TRUE, save_name = \"res_flood.pdf\",inset = c(-0.09,0))"
   ]
  },
  {
   "cell_type": "markdown",
   "id": "1cc4afca-71ca-43d0-8ae2-448b0ea6eece",
   "metadata": {},
   "source": [
    "### Recompute quantile here"
   ]
  },
  {
   "cell_type": "code",
   "execution_count": 5,
   "id": "a237d6ef-0a66-4954-9f0c-eb7e0cce5b95",
   "metadata": {},
   "outputs": [
    {
     "data": {
      "text/html": [
       "63.829929412082"
      ],
      "text/latex": [
       "63.829929412082"
      ],
      "text/markdown": [
       "63.829929412082"
      ],
      "text/plain": [
       "[1] 63.82993"
      ]
     },
     "metadata": {},
     "output_type": "display_data"
    }
   ],
   "source": [
    "df_flood = read.csv(\"df_flood.csv\") #df flood has 10^6 samples of F(X1), F(X2), F(X3) with the output associated output Y\n",
    "\n",
    "level_quant = 0.99 #this corresponds to the 0.999% quantile due to truncated sampling\n",
    "thresh = as.numeric(quantile(df_flood$pred_norm, level_quant))\n",
    "thresh"
   ]
  },
  {
   "cell_type": "markdown",
   "id": "c223aa3d-052c-4ee4-be7d-a5be00ab09b2",
   "metadata": {},
   "source": [
    "### Function to compute HSIC indices with ANOVA-like decomposition"
   ]
  },
  {
   "cell_type": "code",
   "execution_count": null,
   "id": "a0ef5714-b34d-4258-b797-9e58c24338f1",
   "metadata": {},
   "outputs": [],
   "source": [
    "pairs = t(combn(1:3, 2))\n",
    "\n",
    "func_hsic = function(it){\n",
    "    X = df_flood[((it-1)*10^4+1):(it*10^4),1:3] #get 10^4 samples of the inputs variables (except Qmax, not considered here)\n",
    "    model = function(X){return(as.numeric(df_flood[((it-1)*10^4+1):(it*10^4),5]))} #get associated outputs\n",
    "    res_hsic = sensiHSIC(model = model, X = X, target=list(c=thresh, type = \"exp1side\"), anova = list(\"obj\" = \"both\"), kernelX = \"rbf_anova\", kernelY = \"rbf_anova\")  #get hsic indices with the 3 variables\n",
    "    res = as.numeric(res_hsic$FO[[1]]) #get first order indices\n",
    "    denom = as.numeric(res_hsic$denom) #get denominator to normalize the 2nd order indices that will be computed\n",
    "    for(ii in 1:nrow(pairs)){ #for each pair of parameters\n",
    "        XX = X[,pairs[ii,]] \n",
    "        res_hsic = sensiHSIC(model = model, X = XX, target=list(c=thresh, type = \"exp1side\"), anova = list(\"obj\" = \"both\"),kernelX = \"rbf_anova\", kernelY = \"rbf_anova\") #get hsic indices for this pair of parameter\n",
    "        interaction = (as.numeric(res_hsic$TO[[1]])[1] - as.numeric(res_hsic$FO[[1]])[1])*as.numeric(res_hsic$denom)/denom # compute the 2nd order index and normalize it\n",
    "        res = c(res, interaction)\n",
    "    }\n",
    "    return(res)\n",
    "}"
   ]
  },
  {
   "cell_type": "markdown",
   "id": "898d477c-9274-449a-ac48-47f09fec1b62",
   "metadata": {},
   "source": [
    "### Compute the HSIC indices "
   ]
  },
  {
   "cell_type": "code",
   "execution_count": null,
   "id": "5039fd5d-18fb-49fa-9fea-187a4e44cdbe",
   "metadata": {},
   "outputs": [],
   "source": [
    "set.seed(10)\n",
    "\n",
    "n_iter = 100\n",
    "results <- foreach(it = 1:n_iter, .combine = \"rbind\") %dopar% {func_hsic(it)}\n",
    "results = as.data.frame(results)\n",
    "colnames(results) = c(\"er\",\"Ks\",\"of\",\"er-Ks\",\"er-of\",\"Ks-of\")\n",
    "results[\"er-Ks-of\"] = 1-apply(results, 1, sum)\n",
    "\n",
    "write.csv(results, file = \"results_hsic_flood_interactions.csv\", row.names = FALSE)\n"
   ]
  },
  {
   "cell_type": "markdown",
   "id": "15f83e0f-604f-44ff-8dd6-39445cea2b38",
   "metadata": {},
   "source": [
    "### Plot the results"
   ]
  },
  {
   "cell_type": "code",
   "execution_count": 28,
   "id": "827beabe-af0c-4108-bf63-0ddce400c61a",
   "metadata": {},
   "outputs": [
    {
     "data": {
      "image/png": "[encoded data removed]",
      "text/plain": [
       "plot without title"
      ]
     },
     "metadata": {
      "image/png": {
       "height": 360,
       "width": 600
      }
     },
     "output_type": "display_data"
    }
   ],
   "source": [
    "results = read.csv(\"results_hsic_flood_interactions.csv\")\n",
    "df_long <- pivot_longer(results, cols = everything(), names_to = \"Variable\", values_to = \"Value\")\n",
    "df_long$Variable <- factor(df_long$Variable, levels = unique(df_long$Variable))\n",
    "\n",
    "# Boxplots côte à côte\n",
    "p = ggplot(df_long, aes(x = Variable, y = Value, col = Variable)) +\n",
    "  geom_boxplot() +\n",
    "  theme_bw() +\n",
    "  labs(\n",
    "    x = \"\", y = \"\",\n",
    "    color = expression(T - R[phantom() * paste(plain(\"HSIC\"), \",\", omega)]^2)\n",
    "  ) +\n",
    "  scale_fill_brewer(palette = \"Set2\") +\n",
    "  theme(\n",
    "    legend.title = element_text(size = 21),  # taille du titre de la légende\n",
    "    legend.text  = element_text(size = 17),  # taille du texte de la légende\n",
    "    axis.text.x  = element_text(size = 20),  # taille des ticks en abscisse\n",
    "    axis.text.y  = element_text(size = 17)   # taille des ticks en ordonnée\n",
    "  ) +  scale_y_log10()\n",
    "\n",
    "p"
   ]
  },
  {
   "cell_type": "code",
   "execution_count": 13,
   "id": "a697d35a",
   "metadata": {},
   "outputs": [],
   "source": [
    "ggsave(filename = \"hsic_flood.pdf\",plot = p,device = cairo_pdf,width = 10, height = 7, units = \"in\",dpi = 600)"
   ]
  }
 ],
 "metadata": {
  "kernelspec": {
   "display_name": "R",
   "language": "R",
   "name": "ir"
  },
  "language_info": {
   "codemirror_mode": "r",
   "file_extension": ".r",
   "mimetype": "text/x-r-source",
   "name": "R",
   "pygments_lexer": "r",
   "version": "4.4.2"
  }
 },
 "nbformat": 4,
 "nbformat_minor": 5
}
